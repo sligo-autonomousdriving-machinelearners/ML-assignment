{
 "cells": [
  {
   "cell_type": "code",
   "execution_count": 1,
   "id": "3c8331e0",
   "metadata": {},
   "outputs": [],
   "source": [
    "import numpy as np # linear algebra\n",
    "import pandas as pd # data processing, CSV file I/O (ex: pd.read_csv)\n",
    "import matplotlib.pyplot as plt # plotting"
   ]
  },
  {
   "cell_type": "code",
   "execution_count": 2,
   "id": "1faf44ee",
   "metadata": {
    "scrolled": true
   },
   "outputs": [],
   "source": [
    "#Your method section should set out how you cleaned the data:\n",
    "#Remove delimeter from dataset\n",
    "df_peugot_1=pd.read_csv(\"peugeot_207_01.csv\", delimiter=\";\")\n",
    "df_peugot_2=pd.read_csv(\"peugeot_207_02.csv\", delimiter=\";\")\n",
    "df_corsa_1=pd.read_csv(\"opel_corsa_01.csv\", delimiter=\";\")\n",
    "df_corsa_2=pd.read_csv(\"opel_corsa_02.csv\", delimiter=\";\")\n",
    "\n",
    "#Print and check the dataset from cars\n",
    "#df_peugot_1.head()\n",
    "#df_corsa_2.tail()"
   ]
  },
  {
   "cell_type": "code",
   "execution_count": 3,
   "id": "1ca3801b",
   "metadata": {},
   "outputs": [
    {
     "data": {
      "text/html": [
       "<div>\n",
       "<style scoped>\n",
       "    .dataframe tbody tr th:only-of-type {\n",
       "        vertical-align: middle;\n",
       "    }\n",
       "\n",
       "    .dataframe tbody tr th {\n",
       "        vertical-align: top;\n",
       "    }\n",
       "\n",
       "    .dataframe thead th {\n",
       "        text-align: right;\n",
       "    }\n",
       "</style>\n",
       "<table border=\"1\" class=\"dataframe\">\n",
       "  <thead>\n",
       "    <tr style=\"text-align: right;\">\n",
       "      <th></th>\n",
       "      <th>Unnamed: 0</th>\n",
       "      <th>AltitudeVariation</th>\n",
       "      <th>VehicleSpeedInstantaneous</th>\n",
       "      <th>VehicleSpeedAverage</th>\n",
       "      <th>VehicleSpeedVariance</th>\n",
       "      <th>VehicleSpeedVariation</th>\n",
       "      <th>LongitudinalAcceleration</th>\n",
       "      <th>EngineLoad</th>\n",
       "      <th>EngineCoolantTemperature</th>\n",
       "      <th>ManifoldAbsolutePressure</th>\n",
       "      <th>EngineRPM</th>\n",
       "      <th>MassAirFlow</th>\n",
       "      <th>IntakeAirTemperature</th>\n",
       "      <th>VerticalAcceleration</th>\n",
       "      <th>FuelConsumptionAverage</th>\n",
       "      <th>roadSurface</th>\n",
       "      <th>traffic</th>\n",
       "      <th>drivingStyle</th>\n",
       "    </tr>\n",
       "  </thead>\n",
       "  <tbody>\n",
       "    <tr>\n",
       "      <th>0</th>\n",
       "      <td>59</td>\n",
       "      <td>-13.399994</td>\n",
       "      <td>20.699999</td>\n",
       "      <td>6.060</td>\n",
       "      <td>115.840061</td>\n",
       "      <td>-4.500000</td>\n",
       "      <td>1.0548</td>\n",
       "      <td>38.039215</td>\n",
       "      <td>31.0</td>\n",
       "      <td>101.0</td>\n",
       "      <td>798.0</td>\n",
       "      <td>6.22</td>\n",
       "      <td>15.0</td>\n",
       "      <td>-0.5982</td>\n",
       "      <td>27.919697</td>\n",
       "      <td>SmoothCondition</td>\n",
       "      <td>LowCongestionCondition</td>\n",
       "      <td>EvenPaceStyle</td>\n",
       "    </tr>\n",
       "    <tr>\n",
       "      <th>1</th>\n",
       "      <td>60</td>\n",
       "      <td>-13.200005</td>\n",
       "      <td>17.100000</td>\n",
       "      <td>6.345</td>\n",
       "      <td>117.200816</td>\n",
       "      <td>-3.599998</td>\n",
       "      <td>0.9012</td>\n",
       "      <td>38.039215</td>\n",
       "      <td>31.0</td>\n",
       "      <td>101.0</td>\n",
       "      <td>797.5</td>\n",
       "      <td>6.27</td>\n",
       "      <td>15.0</td>\n",
       "      <td>-0.5244</td>\n",
       "      <td>26.458355</td>\n",
       "      <td>SmoothCondition</td>\n",
       "      <td>LowCongestionCondition</td>\n",
       "      <td>EvenPaceStyle</td>\n",
       "    </tr>\n",
       "    <tr>\n",
       "      <th>2</th>\n",
       "      <td>61</td>\n",
       "      <td>-13.200005</td>\n",
       "      <td>14.400000</td>\n",
       "      <td>6.585</td>\n",
       "      <td>117.559595</td>\n",
       "      <td>-2.700001</td>\n",
       "      <td>0.9331</td>\n",
       "      <td>90.588234</td>\n",
       "      <td>32.0</td>\n",
       "      <td>101.0</td>\n",
       "      <td>797.5</td>\n",
       "      <td>6.27</td>\n",
       "      <td>15.0</td>\n",
       "      <td>-0.5068</td>\n",
       "      <td>26.458355</td>\n",
       "      <td>SmoothCondition</td>\n",
       "      <td>LowCongestionCondition</td>\n",
       "      <td>EvenPaceStyle</td>\n",
       "    </tr>\n",
       "    <tr>\n",
       "      <th>3</th>\n",
       "      <td>62</td>\n",
       "      <td>-11.800003</td>\n",
       "      <td>14.400000</td>\n",
       "      <td>6.825</td>\n",
       "      <td>117.801222</td>\n",
       "      <td>0.000000</td>\n",
       "      <td>0.9878</td>\n",
       "      <td>90.588234</td>\n",
       "      <td>32.0</td>\n",
       "      <td>101.0</td>\n",
       "      <td>726.0</td>\n",
       "      <td>8.63</td>\n",
       "      <td>15.0</td>\n",
       "      <td>-0.4882</td>\n",
       "      <td>26.004126</td>\n",
       "      <td>SmoothCondition</td>\n",
       "      <td>LowCongestionCondition</td>\n",
       "      <td>EvenPaceStyle</td>\n",
       "    </tr>\n",
       "    <tr>\n",
       "      <th>4</th>\n",
       "      <td>63</td>\n",
       "      <td>-19.800003</td>\n",
       "      <td>14.400000</td>\n",
       "      <td>7.065</td>\n",
       "      <td>117.925697</td>\n",
       "      <td>0.000000</td>\n",
       "      <td>1.1316</td>\n",
       "      <td>92.941177</td>\n",
       "      <td>32.0</td>\n",
       "      <td>101.0</td>\n",
       "      <td>784.0</td>\n",
       "      <td>8.88</td>\n",
       "      <td>15.0</td>\n",
       "      <td>-0.6712</td>\n",
       "      <td>25.295498</td>\n",
       "      <td>SmoothCondition</td>\n",
       "      <td>LowCongestionCondition</td>\n",
       "      <td>EvenPaceStyle</td>\n",
       "    </tr>\n",
       "  </tbody>\n",
       "</table>\n",
       "</div>"
      ],
      "text/plain": [
       "   Unnamed: 0  AltitudeVariation  VehicleSpeedInstantaneous  \\\n",
       "0          59         -13.399994                  20.699999   \n",
       "1          60         -13.200005                  17.100000   \n",
       "2          61         -13.200005                  14.400000   \n",
       "3          62         -11.800003                  14.400000   \n",
       "4          63         -19.800003                  14.400000   \n",
       "\n",
       "   VehicleSpeedAverage  VehicleSpeedVariance  VehicleSpeedVariation  \\\n",
       "0                6.060            115.840061              -4.500000   \n",
       "1                6.345            117.200816              -3.599998   \n",
       "2                6.585            117.559595              -2.700001   \n",
       "3                6.825            117.801222               0.000000   \n",
       "4                7.065            117.925697               0.000000   \n",
       "\n",
       "   LongitudinalAcceleration  EngineLoad  EngineCoolantTemperature  \\\n",
       "0                    1.0548   38.039215                      31.0   \n",
       "1                    0.9012   38.039215                      31.0   \n",
       "2                    0.9331   90.588234                      32.0   \n",
       "3                    0.9878   90.588234                      32.0   \n",
       "4                    1.1316   92.941177                      32.0   \n",
       "\n",
       "   ManifoldAbsolutePressure  EngineRPM  MassAirFlow  IntakeAirTemperature  \\\n",
       "0                     101.0      798.0         6.22                  15.0   \n",
       "1                     101.0      797.5         6.27                  15.0   \n",
       "2                     101.0      797.5         6.27                  15.0   \n",
       "3                     101.0      726.0         8.63                  15.0   \n",
       "4                     101.0      784.0         8.88                  15.0   \n",
       "\n",
       "   VerticalAcceleration  FuelConsumptionAverage      roadSurface  \\\n",
       "0               -0.5982               27.919697  SmoothCondition   \n",
       "1               -0.5244               26.458355  SmoothCondition   \n",
       "2               -0.5068               26.458355  SmoothCondition   \n",
       "3               -0.4882               26.004126  SmoothCondition   \n",
       "4               -0.6712               25.295498  SmoothCondition   \n",
       "\n",
       "                  traffic   drivingStyle  \n",
       "0  LowCongestionCondition  EvenPaceStyle  \n",
       "1  LowCongestionCondition  EvenPaceStyle  \n",
       "2  LowCongestionCondition  EvenPaceStyle  \n",
       "3  LowCongestionCondition  EvenPaceStyle  \n",
       "4  LowCongestionCondition  EvenPaceStyle  "
      ]
     },
     "execution_count": 3,
     "metadata": {},
     "output_type": "execute_result"
    }
   ],
   "source": [
    "#concatenate all the car datasets into one big file\n",
    "df_allcars=pd.concat([df_peugot_1, df_peugot_2, df_corsa_1, df_corsa_2])\n",
    "df_allcars.head()"
   ]
  },
  {
   "cell_type": "code",
   "execution_count": 4,
   "id": "ef326c19",
   "metadata": {
    "scrolled": true
   },
   "outputs": [],
   "source": [
    "#Fill in all the NA/NaN values with 0 to make sure no error in dataset\n",
    "df_allcars.describe()\n",
    "df_allcars = df_allcars.fillna(0)\n",
    "\n",
    "#Since the data types are almost all the same floating integers, just columns that are not of concern remove roadSurface and drivingStyle\n",
    "#The team will focus on traffic only\n",
    "df_allcarsnew=df_allcars.drop([\"roadSurface\",\"drivingStyle\"], axis=1)\n",
    "\n",
    "#Check all data for data types\n",
    "#df_allcarsnew.info()"
   ]
  },
  {
   "cell_type": "code",
   "execution_count": 5,
   "id": "7a5ea4b9",
   "metadata": {
    "scrolled": true
   },
   "outputs": [],
   "source": [
    "#Convert datatype to float\n",
    "df_allcarsnew.iloc[:,0:15] = df_allcars.iloc[:,0:15].astype('float')\n",
    "\n",
    "#Check all data for data types\n",
    "#df_allcarsnew.info()"
   ]
  },
  {
   "cell_type": "code",
   "execution_count": 6,
   "id": "5d271b94",
   "metadata": {
    "scrolled": true
   },
   "outputs": [
    {
     "data": {
      "text/html": [
       "<div>\n",
       "<style scoped>\n",
       "    .dataframe tbody tr th:only-of-type {\n",
       "        vertical-align: middle;\n",
       "    }\n",
       "\n",
       "    .dataframe tbody tr th {\n",
       "        vertical-align: top;\n",
       "    }\n",
       "\n",
       "    .dataframe thead th {\n",
       "        text-align: right;\n",
       "    }\n",
       "</style>\n",
       "<table border=\"1\" class=\"dataframe\">\n",
       "  <thead>\n",
       "    <tr style=\"text-align: right;\">\n",
       "      <th></th>\n",
       "      <th>Unnamed: 0</th>\n",
       "      <th>AltitudeVariation</th>\n",
       "      <th>VehicleSpeedInstantaneous</th>\n",
       "      <th>VehicleSpeedAverage</th>\n",
       "      <th>VehicleSpeedVariance</th>\n",
       "      <th>VehicleSpeedVariation</th>\n",
       "      <th>LongitudinalAcceleration</th>\n",
       "      <th>EngineLoad</th>\n",
       "      <th>EngineCoolantTemperature</th>\n",
       "      <th>ManifoldAbsolutePressure</th>\n",
       "      <th>EngineRPM</th>\n",
       "      <th>MassAirFlow</th>\n",
       "      <th>IntakeAirTemperature</th>\n",
       "      <th>VerticalAcceleration</th>\n",
       "      <th>FuelConsumptionAverage</th>\n",
       "    </tr>\n",
       "  </thead>\n",
       "  <tbody>\n",
       "    <tr>\n",
       "      <th>0</th>\n",
       "      <td>59.0</td>\n",
       "      <td>-13.399994</td>\n",
       "      <td>20.699999</td>\n",
       "      <td>6.060</td>\n",
       "      <td>115.840061</td>\n",
       "      <td>-4.500000</td>\n",
       "      <td>1.0548</td>\n",
       "      <td>38.039215</td>\n",
       "      <td>31.0</td>\n",
       "      <td>101.0</td>\n",
       "      <td>798.0</td>\n",
       "      <td>6.22</td>\n",
       "      <td>15.0</td>\n",
       "      <td>-0.5982</td>\n",
       "      <td>27.919697</td>\n",
       "    </tr>\n",
       "    <tr>\n",
       "      <th>1</th>\n",
       "      <td>60.0</td>\n",
       "      <td>-13.200005</td>\n",
       "      <td>17.100000</td>\n",
       "      <td>6.345</td>\n",
       "      <td>117.200816</td>\n",
       "      <td>-3.599998</td>\n",
       "      <td>0.9012</td>\n",
       "      <td>38.039215</td>\n",
       "      <td>31.0</td>\n",
       "      <td>101.0</td>\n",
       "      <td>797.5</td>\n",
       "      <td>6.27</td>\n",
       "      <td>15.0</td>\n",
       "      <td>-0.5244</td>\n",
       "      <td>26.458355</td>\n",
       "    </tr>\n",
       "    <tr>\n",
       "      <th>2</th>\n",
       "      <td>61.0</td>\n",
       "      <td>-13.200005</td>\n",
       "      <td>14.400000</td>\n",
       "      <td>6.585</td>\n",
       "      <td>117.559595</td>\n",
       "      <td>-2.700001</td>\n",
       "      <td>0.9331</td>\n",
       "      <td>90.588234</td>\n",
       "      <td>32.0</td>\n",
       "      <td>101.0</td>\n",
       "      <td>797.5</td>\n",
       "      <td>6.27</td>\n",
       "      <td>15.0</td>\n",
       "      <td>-0.5068</td>\n",
       "      <td>26.458355</td>\n",
       "    </tr>\n",
       "    <tr>\n",
       "      <th>3</th>\n",
       "      <td>62.0</td>\n",
       "      <td>-11.800003</td>\n",
       "      <td>14.400000</td>\n",
       "      <td>6.825</td>\n",
       "      <td>117.801222</td>\n",
       "      <td>0.000000</td>\n",
       "      <td>0.9878</td>\n",
       "      <td>90.588234</td>\n",
       "      <td>32.0</td>\n",
       "      <td>101.0</td>\n",
       "      <td>726.0</td>\n",
       "      <td>8.63</td>\n",
       "      <td>15.0</td>\n",
       "      <td>-0.4882</td>\n",
       "      <td>26.004126</td>\n",
       "    </tr>\n",
       "    <tr>\n",
       "      <th>4</th>\n",
       "      <td>63.0</td>\n",
       "      <td>-19.800003</td>\n",
       "      <td>14.400000</td>\n",
       "      <td>7.065</td>\n",
       "      <td>117.925697</td>\n",
       "      <td>0.000000</td>\n",
       "      <td>1.1316</td>\n",
       "      <td>92.941177</td>\n",
       "      <td>32.0</td>\n",
       "      <td>101.0</td>\n",
       "      <td>784.0</td>\n",
       "      <td>8.88</td>\n",
       "      <td>15.0</td>\n",
       "      <td>-0.6712</td>\n",
       "      <td>25.295498</td>\n",
       "    </tr>\n",
       "  </tbody>\n",
       "</table>\n",
       "</div>"
      ],
      "text/plain": [
       "   Unnamed: 0  AltitudeVariation  VehicleSpeedInstantaneous  \\\n",
       "0        59.0         -13.399994                  20.699999   \n",
       "1        60.0         -13.200005                  17.100000   \n",
       "2        61.0         -13.200005                  14.400000   \n",
       "3        62.0         -11.800003                  14.400000   \n",
       "4        63.0         -19.800003                  14.400000   \n",
       "\n",
       "   VehicleSpeedAverage  VehicleSpeedVariance  VehicleSpeedVariation  \\\n",
       "0                6.060            115.840061              -4.500000   \n",
       "1                6.345            117.200816              -3.599998   \n",
       "2                6.585            117.559595              -2.700001   \n",
       "3                6.825            117.801222               0.000000   \n",
       "4                7.065            117.925697               0.000000   \n",
       "\n",
       "   LongitudinalAcceleration  EngineLoad  EngineCoolantTemperature  \\\n",
       "0                    1.0548   38.039215                      31.0   \n",
       "1                    0.9012   38.039215                      31.0   \n",
       "2                    0.9331   90.588234                      32.0   \n",
       "3                    0.9878   90.588234                      32.0   \n",
       "4                    1.1316   92.941177                      32.0   \n",
       "\n",
       "   ManifoldAbsolutePressure  EngineRPM  MassAirFlow  IntakeAirTemperature  \\\n",
       "0                     101.0      798.0         6.22                  15.0   \n",
       "1                     101.0      797.5         6.27                  15.0   \n",
       "2                     101.0      797.5         6.27                  15.0   \n",
       "3                     101.0      726.0         8.63                  15.0   \n",
       "4                     101.0      784.0         8.88                  15.0   \n",
       "\n",
       "   VerticalAcceleration  FuelConsumptionAverage  \n",
       "0               -0.5982               27.919697  \n",
       "1               -0.5244               26.458355  \n",
       "2               -0.5068               26.458355  \n",
       "3               -0.4882               26.004126  \n",
       "4               -0.6712               25.295498  "
      ]
     },
     "execution_count": 6,
     "metadata": {},
     "output_type": "execute_result"
    }
   ],
   "source": [
    "#Assign the dependent variables\n",
    "X = df_allcarsnew.drop([\"traffic\"], axis=1)\n",
    "X.head()"
   ]
  },
  {
   "cell_type": "code",
   "execution_count": 7,
   "id": "5f6de1e0",
   "metadata": {
    "scrolled": true
   },
   "outputs": [
    {
     "data": {
      "text/plain": [
       "array(['LowCongestionCondition', 'NormalCongestionCondition',\n",
       "       'HighCongestionCondition'], dtype=object)"
      ]
     },
     "execution_count": 7,
     "metadata": {},
     "output_type": "execute_result"
    }
   ],
   "source": [
    "df_allcarsnew['traffic'].unique()"
   ]
  },
  {
   "cell_type": "code",
   "execution_count": 8,
   "id": "63d4441b",
   "metadata": {
    "scrolled": false
   },
   "outputs": [],
   "source": [
    "#Assign the independent variable\n",
    "#Y = df_allcarsnew.traffic\n",
    "#print(Y)"
   ]
  },
  {
   "cell_type": "code",
   "execution_count": 9,
   "id": "5b0dacb7",
   "metadata": {},
   "outputs": [
    {
     "name": "stdout",
     "output_type": "stream",
     "text": [
      "['LowCongestionCondition', 'NormalCongestionCondition', 'HighCongestionCondition']\n"
     ]
    }
   ],
   "source": [
    "#Identify the unique object parameters from Traffic\n",
    "traffic_unique=list(df_allcarsnew[\"traffic\"].unique())\n",
    "print(traffic_unique)"
   ]
  },
  {
   "cell_type": "code",
   "execution_count": 10,
   "id": "5b8eeeed",
   "metadata": {
    "scrolled": true
   },
   "outputs": [
    {
     "data": {
      "text/html": [
       "<div>\n",
       "<style scoped>\n",
       "    .dataframe tbody tr th:only-of-type {\n",
       "        vertical-align: middle;\n",
       "    }\n",
       "\n",
       "    .dataframe tbody tr th {\n",
       "        vertical-align: top;\n",
       "    }\n",
       "\n",
       "    .dataframe thead th {\n",
       "        text-align: right;\n",
       "    }\n",
       "</style>\n",
       "<table border=\"1\" class=\"dataframe\">\n",
       "  <thead>\n",
       "    <tr style=\"text-align: right;\">\n",
       "      <th></th>\n",
       "      <th>traffic_HighCongestionCondition</th>\n",
       "      <th>traffic_LowCongestionCondition</th>\n",
       "      <th>traffic_NormalCongestionCondition</th>\n",
       "    </tr>\n",
       "  </thead>\n",
       "  <tbody>\n",
       "    <tr>\n",
       "      <th>0</th>\n",
       "      <td>0</td>\n",
       "      <td>1</td>\n",
       "      <td>0</td>\n",
       "    </tr>\n",
       "    <tr>\n",
       "      <th>1</th>\n",
       "      <td>0</td>\n",
       "      <td>1</td>\n",
       "      <td>0</td>\n",
       "    </tr>\n",
       "    <tr>\n",
       "      <th>2</th>\n",
       "      <td>0</td>\n",
       "      <td>1</td>\n",
       "      <td>0</td>\n",
       "    </tr>\n",
       "    <tr>\n",
       "      <th>3</th>\n",
       "      <td>0</td>\n",
       "      <td>1</td>\n",
       "      <td>0</td>\n",
       "    </tr>\n",
       "    <tr>\n",
       "      <th>4</th>\n",
       "      <td>0</td>\n",
       "      <td>1</td>\n",
       "      <td>0</td>\n",
       "    </tr>\n",
       "  </tbody>\n",
       "</table>\n",
       "</div>"
      ],
      "text/plain": [
       "   traffic_HighCongestionCondition  traffic_LowCongestionCondition  \\\n",
       "0                                0                               1   \n",
       "1                                0                               1   \n",
       "2                                0                               1   \n",
       "3                                0                               1   \n",
       "4                                0                               1   \n",
       "\n",
       "   traffic_NormalCongestionCondition  \n",
       "0                                  0  \n",
       "1                                  0  \n",
       "2                                  0  \n",
       "3                                  0  \n",
       "4                                  0  "
      ]
     },
     "execution_count": 10,
     "metadata": {},
     "output_type": "execute_result"
    }
   ],
   "source": [
    "#Convert unique values into 1x3 matrix\n",
    "one_hot_encoding = pd.get_dummies(df_allcarsnew[[\"traffic\"]])\n",
    "one_hot_encoding.head()"
   ]
  },
  {
   "cell_type": "code",
   "execution_count": 11,
   "id": "21c9b18e",
   "metadata": {},
   "outputs": [
    {
     "data": {
      "text/html": [
       "<div>\n",
       "<style scoped>\n",
       "    .dataframe tbody tr th:only-of-type {\n",
       "        vertical-align: middle;\n",
       "    }\n",
       "\n",
       "    .dataframe tbody tr th {\n",
       "        vertical-align: top;\n",
       "    }\n",
       "\n",
       "    .dataframe thead th {\n",
       "        text-align: right;\n",
       "    }\n",
       "</style>\n",
       "<table border=\"1\" class=\"dataframe\">\n",
       "  <thead>\n",
       "    <tr style=\"text-align: right;\">\n",
       "      <th></th>\n",
       "      <th>traffic_HighCongestionCondition</th>\n",
       "      <th>traffic_LowCongestionCondition</th>\n",
       "      <th>traffic_NormalCongestionCondition</th>\n",
       "      <th>Target</th>\n",
       "    </tr>\n",
       "  </thead>\n",
       "  <tbody>\n",
       "    <tr>\n",
       "      <th>0</th>\n",
       "      <td>0</td>\n",
       "      <td>1</td>\n",
       "      <td>0</td>\n",
       "      <td>[0, 1, 0]</td>\n",
       "    </tr>\n",
       "    <tr>\n",
       "      <th>1</th>\n",
       "      <td>0</td>\n",
       "      <td>1</td>\n",
       "      <td>0</td>\n",
       "      <td>[0, 1, 0]</td>\n",
       "    </tr>\n",
       "    <tr>\n",
       "      <th>2</th>\n",
       "      <td>0</td>\n",
       "      <td>1</td>\n",
       "      <td>0</td>\n",
       "      <td>[0, 1, 0]</td>\n",
       "    </tr>\n",
       "    <tr>\n",
       "      <th>3</th>\n",
       "      <td>0</td>\n",
       "      <td>1</td>\n",
       "      <td>0</td>\n",
       "      <td>[0, 1, 0]</td>\n",
       "    </tr>\n",
       "    <tr>\n",
       "      <th>4</th>\n",
       "      <td>0</td>\n",
       "      <td>1</td>\n",
       "      <td>0</td>\n",
       "      <td>[0, 1, 0]</td>\n",
       "    </tr>\n",
       "  </tbody>\n",
       "</table>\n",
       "</div>"
      ],
      "text/plain": [
       "   traffic_HighCongestionCondition  traffic_LowCongestionCondition  \\\n",
       "0                                0                               1   \n",
       "1                                0                               1   \n",
       "2                                0                               1   \n",
       "3                                0                               1   \n",
       "4                                0                               1   \n",
       "\n",
       "   traffic_NormalCongestionCondition     Target  \n",
       "0                                  0  [0, 1, 0]  \n",
       "1                                  0  [0, 1, 0]  \n",
       "2                                  0  [0, 1, 0]  \n",
       "3                                  0  [0, 1, 0]  \n",
       "4                                  0  [0, 1, 0]  "
      ]
     },
     "execution_count": 11,
     "metadata": {},
     "output_type": "execute_result"
    }
   ],
   "source": [
    "#only run once\n",
    "one_hot_encoding['Target']= one_hot_encoding.values.tolist()\n",
    "one_hot_encoding.head()"
   ]
  },
  {
   "cell_type": "code",
   "execution_count": 12,
   "id": "f49ba36d",
   "metadata": {},
   "outputs": [],
   "source": [
    "from sklearn.preprocessing import LabelEncoder\n",
    "lab = LabelEncoder()\n",
    "\n",
    "#Perform label encoding\n",
    "df_allcarsnew['traffic'] = lab.fit_transform(df_allcarsnew['traffic'])\n",
    "y = df_allcarsnew['traffic']"
   ]
  },
  {
   "cell_type": "code",
   "execution_count": 13,
   "id": "45a42c54",
   "metadata": {},
   "outputs": [
    {
     "data": {
      "text/plain": [
       "1    17764\n",
       "0     3017\n",
       "2     2994\n",
       "Name: traffic, dtype: int64"
      ]
     },
     "execution_count": 13,
     "metadata": {},
     "output_type": "execute_result"
    }
   ],
   "source": [
    "#Get numbers for each unique traffic dataset\n",
    "df_allcarsnew['traffic'].value_counts()"
   ]
  },
  {
   "cell_type": "code",
   "execution_count": 14,
   "id": "a34a5d85",
   "metadata": {
    "scrolled": true
   },
   "outputs": [
    {
     "name": "stdout",
     "output_type": "stream",
     "text": [
      "(14265, 15) (9510, 15) (14265,) (9510,)\n"
     ]
    }
   ],
   "source": [
    "# USE LOGISTIC REGRESSION\n",
    "#Avoid imbalance in the data set, use scaler to transform values from 0 to 1\n",
    "from sklearn.linear_model import LogisticRegression\n",
    "from sklearn.model_selection import train_test_split\n",
    "from sklearn.pipeline import make_pipeline\n",
    "from sklearn.preprocessing import StandardScaler\n",
    "\n",
    "X_train, X_test, y_train, y_test = train_test_split(X, y, test_size=0.4, random_state=20)\n",
    "pipe = make_pipeline(StandardScaler(), LogisticRegression(solver='lbfgs', multi_class='auto', max_iter=50000))\n",
    "pipe.fit(X_train, y_train)\n",
    "\n",
    "y_test_pred=pipe.predict(X_test)\n",
    "y_train_pred=pipe.predict(X_train)\n",
    "\n",
    "print(X_train.shape, X_test.shape, y_train.shape, y_test.shape)"
   ]
  },
  {
   "cell_type": "code",
   "execution_count": 15,
   "id": "e88ae244",
   "metadata": {
    "scrolled": true
   },
   "outputs": [
    {
     "name": "stdout",
     "output_type": "stream",
     "text": [
      "model score:  0.7934805467928496\n"
     ]
    }
   ],
   "source": [
    "print(\"model score: \", pipe.score(X_test, y_test))"
   ]
  },
  {
   "cell_type": "code",
   "execution_count": 16,
   "id": "aa1d407f",
   "metadata": {},
   "outputs": [
    {
     "name": "stderr",
     "output_type": "stream",
     "text": [
      "C:\\Users\\46736\\anaconda3\\lib\\site-packages\\seaborn\\distributions.py:2619: FutureWarning: `distplot` is a deprecated function and will be removed in a future version. Please adapt your code to use either `displot` (a figure-level function with similar flexibility) or `kdeplot` (an axes-level function for kernel density plots).\n",
      "  warnings.warn(msg, FutureWarning)\n",
      "C:\\Users\\46736\\anaconda3\\lib\\site-packages\\seaborn\\distributions.py:2619: FutureWarning: `distplot` is a deprecated function and will be removed in a future version. Please adapt your code to use either `displot` (a figure-level function with similar flexibility) or `kdeplot` (an axes-level function for kernel density plots).\n",
      "  warnings.warn(msg, FutureWarning)\n"
     ]
    },
    {
     "data": {
      "image/png": "[encoded data removed]",
      "text/plain": [
       "<Figure size 1080x504 with 1 Axes>"
      ]
     },
     "metadata": {
      "needs_background": "light"
     },
     "output_type": "display_data"
    }
   ],
   "source": [
    "import seaborn as sns\n",
    "\n",
    "plt.figure(figsize=(15, 7))\n",
    "ax = sns.distplot(y, hist=False, color=\"r\", label=\"Actual Value\")\n",
    "sns.distplot(y_test_pred, hist=False, color=\"b\", label=\"Predicted Values\" , ax=ax)\n",
    "\n",
    "\n",
    "plt.title('Actual(red) vs Predicted(blue) Values for Traffic Congestion')\n",
    "plt.show()\n",
    "plt.close()"
   ]
  },
  {
   "cell_type": "code",
   "execution_count": null,
   "id": "e4451e17",
   "metadata": {},
   "outputs": [],
   "source": []
  },
  {
   "cell_type": "code",
   "execution_count": 17,
   "id": "9efc6292",
   "metadata": {},
   "outputs": [],
   "source": [
    "XX = df_allcarsnew.drop([\"traffic\"], axis=1)\n",
    "yy = df_allcarsnew['traffic']"
   ]
  },
  {
   "cell_type": "code",
   "execution_count": 18,
   "id": "3ef9f153",
   "metadata": {},
   "outputs": [
    {
     "name": "stdout",
     "output_type": "stream",
     "text": [
      "(19020, 15) (4755, 15) (19020,) (4755,)\n"
     ]
    }
   ],
   "source": [
    "# USE SVC\n",
    "from sklearn.svm import SVC\n",
    "from sklearn.preprocessing import StandardScaler\n",
    "from sklearn.model_selection import train_test_split\n",
    "from sklearn.pipeline import Pipeline\n",
    "\n",
    "XX_train, XX_test, yy_train, yy_test = train_test_split(XX, yy, test_size=0.2, random_state=1)\n",
    "pipe2 = Pipeline([('scaler', StandardScaler()), ('svc', SVC(C=50))])\n",
    "pipe2.fit(XX_train, yy_train)\n",
    "\n",
    "yy_test_pred=pipe2.predict(XX_test)\n",
    "yy_train_pred=pipe2.predict(XX_train)\n",
    "\n",
    "print(XX_train.shape, XX_test.shape, yy_train.shape, yy_test.shape)"
   ]
  },
  {
   "cell_type": "code",
   "execution_count": 19,
   "id": "e4961ce2",
   "metadata": {
    "scrolled": false
   },
   "outputs": [
    {
     "name": "stdout",
     "output_type": "stream",
     "text": [
      "model score:  0.9800210304942166\n"
     ]
    }
   ],
   "source": [
    "print(\"model score: \", pipe2.score(XX_test, yy_test))"
   ]
  },
  {
   "cell_type": "code",
   "execution_count": 20,
   "id": "ea5adb55",
   "metadata": {},
   "outputs": [
    {
     "name": "stderr",
     "output_type": "stream",
     "text": [
      "C:\\Users\\46736\\anaconda3\\lib\\site-packages\\seaborn\\distributions.py:2619: FutureWarning: `distplot` is a deprecated function and will be removed in a future version. Please adapt your code to use either `displot` (a figure-level function with similar flexibility) or `kdeplot` (an axes-level function for kernel density plots).\n",
      "  warnings.warn(msg, FutureWarning)\n",
      "C:\\Users\\46736\\anaconda3\\lib\\site-packages\\seaborn\\distributions.py:2619: FutureWarning: `distplot` is a deprecated function and will be removed in a future version. Please adapt your code to use either `displot` (a figure-level function with similar flexibility) or `kdeplot` (an axes-level function for kernel density plots).\n",
      "  warnings.warn(msg, FutureWarning)\n"
     ]
    },
    {
     "data": {
      "image/png": "[encoded data removed]",
      "text/plain": [
       "<Figure size 1080x504 with 1 Axes>"
      ]
     },
     "metadata": {
      "needs_background": "light"
     },
     "output_type": "display_data"
    }
   ],
   "source": [
    "import seaborn as sns\n",
    "\n",
    "plt.figure(figsize=(15, 7))\n",
    "ax = sns.distplot(yy, hist=False, color=\"r\", label=\"Actual Value\")\n",
    "sns.distplot(yy_test_pred, hist=False, color=\"b\", label=\"Predicted Values\" , ax=ax)\n",
    "\n",
    "plt.title('Actual(red) vs Predicted(blue) Values for Traffic Congestion')\n",
    "plt.show()\n",
    "plt.close()"
   ]
  },
  {
   "cell_type": "code",
   "execution_count": null,
   "id": "2e10b014",
   "metadata": {},
   "outputs": [],
   "source": []
  },
  {
   "cell_type": "code",
   "execution_count": null,
   "id": "f8f7d71a",
   "metadata": {},
   "outputs": [],
   "source": []
  },
  {
   "cell_type": "code",
   "execution_count": null,
   "id": "d28d4f21",
   "metadata": {},
   "outputs": [],
   "source": []
  },
  {
   "cell_type": "code",
   "execution_count": null,
   "id": "81bada22",
   "metadata": {},
   "outputs": [],
   "source": []
  }
 ],
 "metadata": {
  "kernelspec": {
   "display_name": "Python 3 (ipykernel)",
   "language": "python",
   "name": "python3"
  },
  "language_info": {
   "codemirror_mode": {
    "name": "ipython",
    "version": 3
   },
   "file_extension": ".py",
   "mimetype": "text/x-python",
   "name": "python",
   "nbconvert_exporter": "python",
   "pygments_lexer": "ipython3",
   "version": "3.9.12"
  }
 },
 "nbformat": 4,
 "nbformat_minor": 5
}
